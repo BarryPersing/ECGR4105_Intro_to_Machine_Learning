{
 "cells": [
  {
   "cell_type": "code",
   "execution_count": 1,
   "id": "61dd4030",
   "metadata": {},
   "outputs": [
    {
     "name": "stdout",
     "output_type": "stream",
     "text": [
      "   Pregnancies  Glucose  BloodPressure  SkinThickness  Insulin   BMI  \\\n",
      "0            6      148             72             35        0  33.6   \n",
      "1            1       85             66             29        0  26.6   \n",
      "2            8      183             64              0        0  23.3   \n",
      "3            1       89             66             23       94  28.1   \n",
      "4            0      137             40             35      168  43.1   \n",
      "\n",
      "   DiabetesPedigreeFunction  Age  Outcome  \n",
      "0                     0.627   50        1  \n",
      "1                     0.351   31        0  \n",
      "2                     0.672   32        1  \n",
      "3                     0.167   21        0  \n",
      "4                     2.288   33        1  \n"
     ]
    }
   ],
   "source": [
    "import numpy as np \n",
    "import matplotlib.pyplot as plt \n",
    "import pandas as pd\n",
    "\n",
    "#Read the dataset and split it into input and output.\n",
    "dataset = pd.read_csv('diabetes.csv')\n",
    "print(dataset.head())\n",
    "X = dataset.iloc[:,[0,1,2,3,4,5,6,7]].values\n",
    "Y = dataset.iloc[:,[8]].values\n",
    "#print(X)\n",
    "#print(Y)"
   ]
  },
  {
   "cell_type": "code",
   "execution_count": 2,
   "id": "6e7a51d0",
   "metadata": {},
   "outputs": [
    {
     "name": "stdout",
     "output_type": "stream",
     "text": [
      "[[1.50e+02 7.80e+01 1.26e+02 3.52e+01 6.92e-01 5.40e+01]\n",
      " [9.70e+01 6.00e+01 0.00e+00 2.82e+01 4.43e-01 2.20e+01]\n",
      " [1.65e+02 9.00e+01 6.80e+02 5.23e+01 4.27e-01 2.30e+01]\n",
      " ...\n",
      " [9.40e+01 6.50e+01 0.00e+00 2.47e+01 1.48e-01 2.10e+01]\n",
      " [8.50e+01 7.40e+01 0.00e+00 3.01e+01 3.00e-01 3.50e+01]\n",
      " [1.36e+02 8.20e+01 0.00e+00 0.00e+00 6.40e-01 6.90e+01]]\n"
     ]
    }
   ],
   "source": [
    "#Split both input and output collections into training sets and validation sets.\n",
    "from sklearn.model_selection import train_test_split\n",
    "np.random.seed(0)\n",
    "\n",
    "X_train, X_test, Y_train, Y_test = train_test_split(X, Y, test_size = 0.20, random_state = 0)\n",
    "print(X_train)"
   ]
  },
  {
   "cell_type": "code",
   "execution_count": 3,
   "id": "7376373e",
   "metadata": {},
   "outputs": [
    {
     "name": "stdout",
     "output_type": "stream",
     "text": [
      "[[ 0.91569367  0.44912368  0.3736349   0.37852648  0.67740401  1.69955804]\n",
      " [-0.75182191 -0.47230103 -0.69965674 -0.50667229 -0.07049698 -0.96569189]\n",
      " [ 1.38763205  1.06340683  5.09271083  2.54094063 -0.11855487 -0.88240283]\n",
      " ...\n",
      " [-0.84620959 -0.21634972 -0.69965674 -0.94927168 -0.95656442 -1.04898095]\n",
      " [-1.12937261  0.24436264 -0.69965674 -0.26640405 -0.50001442  0.11706589]\n",
      " [ 0.47521786  0.65388473 -0.69965674 -4.07275877  0.52121586  2.94889395]]\n"
     ]
    }
   ],
   "source": [
    "#Perform standardization\n",
    "from sklearn.preprocessing import StandardScaler\n",
    "scaler = StandardScaler()\n",
    "X_train = scaler.fit_transform(X_train)\n",
    "X_test = scaler.transform(X_test)\n",
    "\n",
    "print(X_train)\n"
   ]
  },
  {
   "cell_type": "code",
   "execution_count": 4,
   "id": "f0d672ce",
   "metadata": {},
   "outputs": [
    {
     "name": "stderr",
     "output_type": "stream",
     "text": [
      "C:\\ProgramData\\Anaconda3\\lib\\site-packages\\sklearn\\utils\\validation.py:63: DataConversionWarning: A column-vector y was passed when a 1d array was expected. Please change the shape of y to (n_samples, ), for example using ravel().\n",
      "  return f(*args, **kwargs)\n"
     ]
    }
   ],
   "source": [
    "#Question 1\n",
    "#Logistic regression\n",
    "from sklearn.linear_model import LogisticRegression \n",
    "classifier = LogisticRegression(random_state=0) \n",
    "classifier.fit(X_train, Y_train)\n",
    "\n",
    "Y_pred = classifier.predict(X_test)\n",
    "#print(Y_pred)"
   ]
  },
  {
   "cell_type": "code",
   "execution_count": 5,
   "id": "04d4326a",
   "metadata": {},
   "outputs": [
    {
     "name": "stdout",
     "output_type": "stream",
     "text": [
      "[[96 11]\n",
      " [18 29]]\n"
     ]
    }
   ],
   "source": [
    "#Print confusion matrix\n",
    "from sklearn.metrics import confusion_matrix\n",
    "\n",
    "cm=confusion_matrix(Y_test, Y_pred)\n",
    "print(cm)"
   ]
  },
  {
   "cell_type": "code",
   "execution_count": 6,
   "id": "5a154a1f",
   "metadata": {},
   "outputs": [
    {
     "name": "stdout",
     "output_type": "stream",
     "text": [
      "Accuracy: 0.8116883116883117\n",
      "Precision: 0.725\n",
      "Recall: 0.6170212765957447\n"
     ]
    }
   ],
   "source": [
    "#Compute validation scores for the logisitic regression\n",
    "from sklearn import metrics \n",
    "print(\"Accuracy:\",metrics.accuracy_score(Y_test, Y_pred)) \n",
    "print(\"Precision:\",metrics.precision_score(Y_test, Y_pred)) \n",
    "print(\"Recall:\",metrics.recall_score(Y_test, Y_pred)) "
   ]
  },
  {
   "cell_type": "code",
   "execution_count": 7,
   "id": "e3230c38",
   "metadata": {},
   "outputs": [
    {
     "data": {
      "text/plain": [
       "Text(0.5, 257.44, 'Predicted label')"
      ]
     },
     "execution_count": 7,
     "metadata": {},
     "output_type": "execute_result"
    },
    {
     "data": {
      "image/png": "[encoded data removed]",
      "text/plain": [
       "<Figure size 432x288 with 2 Axes>"
      ]
     },
     "metadata": {
      "needs_background": "light"
     },
     "output_type": "display_data"
    }
   ],
   "source": [
    "#Output a visual representation of the confusion matirx.\n",
    "import seaborn as sns \n",
    "class_names=[0,1] # name  of classes \n",
    "fig, ax = plt.subplots() \n",
    "tick_marks = np.arange(len(class_names)) \n",
    "plt.xticks(tick_marks, class_names) \n",
    "plt.yticks(tick_marks, class_names) \n",
    "# create heatmap \n",
    "sns.heatmap(pd.DataFrame(cm), annot=True, cmap=\"YlGnBu\" ,fmt='g') \n",
    "ax.xaxis.set_label_position(\"top\") \n",
    "plt.tight_layout() \n",
    "plt.title('Confusion matrix for Logistic Regression', y=1.1) \n",
    "plt.ylabel('Actual label') \n",
    "plt.xlabel('Predicted label') "
   ]
  },
  {
   "cell_type": "code",
   "execution_count": 8,
   "id": "0f1bb252",
   "metadata": {},
   "outputs": [
    {
     "name": "stderr",
     "output_type": "stream",
     "text": [
      "C:\\ProgramData\\Anaconda3\\lib\\site-packages\\sklearn\\utils\\validation.py:63: DataConversionWarning: A column-vector y was passed when a 1d array was expected. Please change the shape of y to (n_samples, ), for example using ravel().\n",
      "  return f(*args, **kwargs)\n"
     ]
    }
   ],
   "source": [
    "#Question 2\n",
    "#Naives Bayes classifier\n",
    "from sklearn.naive_bayes import GaussianNB\n",
    "classifier = GaussianNB()\n",
    "classifier.fit(X_train, Y_train)\n",
    "Y_pred  =  classifier.predict(X_test)\n",
    "#print(Y_pred)  "
   ]
  },
  {
   "cell_type": "code",
   "execution_count": 9,
   "id": "0abc85c5",
   "metadata": {},
   "outputs": [
    {
     "name": "stdout",
     "output_type": "stream",
     "text": [
      "[[93 14]\n",
      " [19 28]]\n",
      "Accuracy: 0.7857142857142857\n",
      "Precision: 0.6666666666666666\n",
      "Recall: 0.5957446808510638\n"
     ]
    }
   ],
   "source": [
    "#Compute confuison matrix and validation scores for the Naive Bayes classifier\n",
    "cmB = confusion_matrix(Y_test, Y_pred)\n",
    "print(cmB)\n",
    "print(\"Accuracy:\",metrics.accuracy_score(Y_test, Y_pred)) \n",
    "print(\"Precision:\",metrics.precision_score(Y_test, Y_pred)) \n",
    "print(\"Recall:\",metrics.recall_score(Y_test, Y_pred)) "
   ]
  },
  {
   "cell_type": "code",
   "execution_count": 10,
   "id": "a027d29f",
   "metadata": {},
   "outputs": [
    {
     "data": {
      "text/plain": [
       "Text(0.5, 257.44, 'Predicted label')"
      ]
     },
     "execution_count": 10,
     "metadata": {},
     "output_type": "execute_result"
    },
    {
     "data": {
      "image/png": "[encoded data removed]",
      "text/plain": [
       "<Figure size 432x288 with 2 Axes>"
      ]
     },
     "metadata": {
      "needs_background": "light"
     },
     "output_type": "display_data"
    }
   ],
   "source": [
    "#Output a visual representation of the confusion matirx.\n",
    "class_names=[0,1] # name  of classes \n",
    "fig, ax = plt.subplots() \n",
    "tick_marks = np.arange(len(class_names)) \n",
    "plt.xticks(tick_marks, class_names) \n",
    "plt.yticks(tick_marks, class_names) \n",
    "# create heatmap \n",
    "sns.heatmap(pd.DataFrame(cmB), annot=True, cmap=\"YlGnBu\" ,fmt='g') \n",
    "ax.xaxis.set_label_position(\"top\") \n",
    "plt.tight_layout() \n",
    "plt.title('Confusion matrix for Naive Bayes', y=1.1) \n",
    "plt.ylabel('Actual label') \n",
    "plt.xlabel('Predicted label') "
   ]
  },
  {
   "cell_type": "code",
   "execution_count": 11,
   "id": "e0da2763",
   "metadata": {},
   "outputs": [
    {
     "name": "stdout",
     "output_type": "stream",
     "text": [
      "Accuracy: 0.768203038791274\n",
      "Precision: 0.7106967290603139\n",
      "Recall: 0.5680079954985615\n"
     ]
    }
   ],
   "source": [
    "#Question 3\n",
    "#Logistic Regression with cross-validation\n",
    "from numpy import mean\n",
    "from sklearn.model_selection import KFold\n",
    "from sklearn.model_selection import cross_validate\n",
    "from sklearn.metrics import make_scorer, accuracy_score, precision_score, recall_score\n",
    "\n",
    "#Five folds\n",
    "cv = KFold(n_splits=5, random_state=1, shuffle=True)\n",
    "model = LogisticRegression(random_state=0)\n",
    "scoring = {'accuracy' : make_scorer(accuracy_score), \n",
    "           'precision' : make_scorer(precision_score),\n",
    "           'recall' : make_scorer(recall_score)}\n",
    "\n",
    "scores = cross_validate(model, X, Y, scoring=scoring, cv=cv, n_jobs=-1)\n",
    "#print(scores)\n",
    "print(\"Accuracy:\",mean(scores['test_accuracy'])) \n",
    "print(\"Precision:\",mean(scores['test_precision'])) \n",
    "print(\"Recall:\",mean(scores['test_recall'])) \n"
   ]
  },
  {
   "cell_type": "code",
   "execution_count": 12,
   "id": "5babb340",
   "metadata": {},
   "outputs": [
    {
     "name": "stdout",
     "output_type": "stream",
     "text": [
      "Accuracy: 0.7720608339029391\n",
      "Precision: 0.7151630601790784\n",
      "Recall: 0.5727476539508023\n"
     ]
    }
   ],
   "source": [
    "#Ten folds\n",
    "cv = KFold(n_splits=10, random_state=1, shuffle=True)\n",
    "model = LogisticRegression(random_state=0)\n",
    "scoring = {'accuracy' : make_scorer(accuracy_score), \n",
    "           'precision' : make_scorer(precision_score),\n",
    "           'recall' : make_scorer(recall_score)}\n",
    "\n",
    "scores = cross_validate(model, X, Y, scoring=scoring, cv=cv, n_jobs=-1)\n",
    "#print(scores)\n",
    "print(\"Accuracy:\",mean(scores['test_accuracy'])) \n",
    "print(\"Precision:\",mean(scores['test_precision'])) \n",
    "print(\"Recall:\",mean(scores['test_recall']))\n"
   ]
  },
  {
   "cell_type": "code",
   "execution_count": 13,
   "id": "b6d93782",
   "metadata": {},
   "outputs": [
    {
     "name": "stdout",
     "output_type": "stream",
     "text": [
      "Accuracy: 0.7617349970291146\n",
      "Precision: 0.6960411320890618\n",
      "Recall: 0.5685525606469003\n"
     ]
    }
   ],
   "source": [
    "#Question 4\n",
    "#Naive Bayes with cross-validation, even though it does not make conceptual sense to do this...\n",
    "#Five folds:\n",
    "cv = KFold(n_splits=5, random_state=1, shuffle=True)\n",
    "model = GaussianNB()\n",
    "scoring = {'accuracy' : make_scorer(accuracy_score), \n",
    "           'precision' : make_scorer(precision_score),\n",
    "           'recall' : make_scorer(recall_score)}\n",
    "\n",
    "scores = cross_validate(model, X, Y, scoring=scoring, cv=cv, n_jobs=-1)\n",
    "#print(scores)\n",
    "print(\"Accuracy:\",mean(scores['test_accuracy'])) \n",
    "print(\"Precision:\",mean(scores['test_precision'])) \n",
    "print(\"Recall:\",mean(scores['test_recall'])) \n"
   ]
  },
  {
   "cell_type": "code",
   "execution_count": 14,
   "id": "f6a45d3f",
   "metadata": {},
   "outputs": [
    {
     "name": "stdout",
     "output_type": "stream",
     "text": [
      "Accuracy: 0.7616199589883801\n",
      "Precision: 0.6970588145645353\n",
      "Recall: 0.5613200557840738\n"
     ]
    }
   ],
   "source": [
    "#Ten folds:\n",
    "cv = KFold(n_splits=10, random_state=1, shuffle=True)\n",
    "model = GaussianNB()\n",
    "scoring = {'accuracy' : make_scorer(accuracy_score), \n",
    "           'precision' : make_scorer(precision_score),\n",
    "           'recall' : make_scorer(recall_score)}\n",
    "\n",
    "scores = cross_validate(model, X, Y, scoring=scoring, cv=cv, n_jobs=-1)\n",
    "#print(scores)\n",
    "print(\"Accuracy:\",mean(scores['test_accuracy'])) \n",
    "print(\"Precision:\",mean(scores['test_precision'])) \n",
    "print(\"Recall:\",mean(scores['test_recall'])) \n"
   ]
  }
 ],
 "metadata": {
  "kernelspec": {
   "display_name": "Python 3",
   "language": "python",
   "name": "python3"
  },
  "language_info": {
   "codemirror_mode": {
    "name": "ipython",
    "version": 3
   },
   "file_extension": ".py",
   "mimetype": "text/x-python",
   "name": "python",
   "nbconvert_exporter": "python",
   "pygments_lexer": "ipython3",
   "version": "3.8.8"
  }
 },
 "nbformat": 4,
 "nbformat_minor": 5
}
